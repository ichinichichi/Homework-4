{
 "cells": [
  {
   "cell_type": "markdown",
   "metadata": {},
   "source": [
    "# WeatherAPI (Weather)\n",
    "\n",
    "Answer the following questions using [WeatherAPI](http://www.weatherapi.com/). I've added three cells for most questions but you're free to use more or less! Hold `Shift` and hit `Enter` to run a cell, and use the `+` on the top left to add a new cell to a notebook.\n",
    "\n",
    "Be sure to take advantage of both the documentation and the API Explorer!\n",
    "\n",
    "## 0) Import any libraries you might need\n",
    "\n",
    "- *Tip: We're going to be downloading things from the internet, so we probably need `requests`.*\n",
    "- *Tip: Remember you only need to import requests once!*"
   ]
  },
  {
   "cell_type": "code",
   "execution_count": 1,
   "metadata": {},
   "outputs": [],
   "source": [
    "import requests"
   ]
  },
  {
   "cell_type": "markdown",
   "metadata": {
    "collapsed": true
   },
   "source": [
    "We are importing the library requests to get access to the Weather API."
   ]
  },
  {
   "cell_type": "markdown",
   "metadata": {
    "collapsed": true
   },
   "source": [
    "## 1) Make a request to the Weather API for where you were born (or lived, or want to visit!).\n",
    "\n",
    "- *Tip: This sure seems familiar.*"
   ]
  },
  {
   "cell_type": "code",
   "execution_count": 2,
   "metadata": {},
   "outputs": [],
   "source": [
    "weather_fukuoka= requests.get(\"http://api.weatherapi.com/v1/current.json?key=d64341e908e646b3b13213053212006&q=Fukuoka&aqi=no\")"
   ]
  },
  {
   "cell_type": "code",
   "execution_count": 3,
   "metadata": {},
   "outputs": [],
   "source": [
    "fukuoka=weather_fukuoka.json()"
   ]
  },
  {
   "cell_type": "markdown",
   "metadata": {},
   "source": [
    "Making a request for the weather in Fukuoka, where I will move to."
   ]
  },
  {
   "cell_type": "markdown",
   "metadata": {
    "collapsed": true
   },
   "source": [
    "\n",
    "\n",
    "## 2) What's the current wind speed, and how much warmer does it feel than it actually is?\n",
    "\n",
    "- *Tip: You can do this by browsing through the dictionaries, but it might be easier to read the documentation*\n",
    "- *Tip: For the second half: it **is** one temperature, and it **feels** a different temperature. Calculate the difference. Same as we did last time!*"
   ]
  },
  {
   "cell_type": "code",
   "execution_count": 16,
   "metadata": {},
   "outputs": [
    {
     "name": "stdout",
     "output_type": "stream",
     "text": [
      "The current wind speed in Fukuoka-Shi is 4.0 kilometres per hour.\n"
     ]
    }
   ],
   "source": [
    "print(f'The current wind speed in {fukuoka[\"location\"][\"name\"]} is {fukuoka[\"current\"][\"wind_kph\"]} kilometres per hour.')"
   ]
  },
  {
   "cell_type": "code",
   "execution_count": 18,
   "metadata": {},
   "outputs": [
    {
     "name": "stdout",
     "output_type": "stream",
     "text": [
      "The current temperature is 19.0 degrees Celcius and it feels exactly like that.\n"
     ]
    }
   ],
   "source": [
    "if (fukuoka[\"current\"][\"temp_c\"])-(fukuoka[\"current\"][\"feelslike_c\"])> 0:\n",
    "    print(f'The current temperature is {fukuoka[\"current\"][\"temp_c\"]} degrees Celcius, but it feels {round(abs((fukuoka[\"current\"][\"temp_c\"])-(fukuoka[\"current\"][\"feelslike_c\"])))} degrees warmer.')\n",
    "elif (fukuoka[\"current\"][\"temp_c\"])-(fukuoka[\"current\"][\"feelslike_c\"])< 0:\n",
    "    print(f'The current temperature is {fukuoka[\"current\"][\"temp_c\"]} degrees Celcius, but it feels {round(abs((fukuoka[\"current\"][\"temp_c\"])-(fukuoka[\"current\"][\"feelslike_c\"])))} degrees colder.')\n",
    "elif (fukuoka[\"current\"][\"temp_c\"])-(fukuoka[\"current\"][\"feelslike_c\"])== 0:\n",
    "    print(f'The current temperature is {fukuoka[\"current\"][\"temp_c\"]} degrees Celcius and it feels exactly like that.')"
   ]
  },
  {
   "cell_type": "markdown",
   "metadata": {},
   "source": [
    "## 3) What is the API endpoint for moon-related information? For the place you decided on above, how much of the moon will be visible on next Thursday?\n",
    "\n",
    "- *Tip: Check the documentation!*\n",
    "- *Tip: If you aren't sure what something means, ask in Slack*"
   ]
  },
  {
   "cell_type": "code",
   "execution_count": 20,
   "metadata": {},
   "outputs": [],
   "source": [
    "moon_fukuoka= requests.get(\"http://api.weatherapi.com/v1/astronomy.json?key=d64341e908e646b3b13213053212006&q=Fukuoka&dt=2021-06-24\")"
   ]
  },
  {
   "cell_type": "code",
   "execution_count": 21,
   "metadata": {},
   "outputs": [],
   "source": [
    "moon=moon_fukuoka.json()"
   ]
  },
  {
   "cell_type": "markdown",
   "metadata": {},
   "source": [
    "Loading the request for moon-related data under Astronomy."
   ]
  },
  {
   "cell_type": "code",
   "execution_count": 23,
   "metadata": {},
   "outputs": [
    {
     "name": "stdout",
     "output_type": "stream",
     "text": [
      "The moon phase on Thursday will be a Full Moon\n"
     ]
    }
   ],
   "source": [
    "print(f'The moon phase on Thursday will be a {moon[\"astronomy\"][\"astro\"][\"moon_phase\"]}')"
   ]
  },
  {
   "cell_type": "markdown",
   "metadata": {},
   "source": [
    "## 4) What's the difference between the high and low temperatures for today?\n",
    "\n",
    "- *Tip: When you requested moon data, you probably overwrote your variables! If so, you'll need to make a new request.*"
   ]
  },
  {
   "cell_type": "markdown",
   "metadata": {
    "collapsed": true
   },
   "source": [
    "To get the high and low temperatures, I need the forecast API. This code loads it again."
   ]
  },
  {
   "cell_type": "code",
   "execution_count": 24,
   "metadata": {},
   "outputs": [],
   "source": [
    "weather_fukuoka= requests.get(\"http://api.weatherapi.com/v1/forecast.json?key=364e0a575b9942e2b8b103915211706&q=Fukuoka&days=1&aqi=no&alerts=no\")"
   ]
  },
  {
   "cell_type": "code",
   "execution_count": 25,
   "metadata": {},
   "outputs": [],
   "source": [
    "fukuoka=weather_fukuoka.json()"
   ]
  },
  {
   "cell_type": "code",
   "execution_count": 29,
   "metadata": {},
   "outputs": [
    {
     "name": "stdout",
     "output_type": "stream",
     "text": [
      "The differences between temperatures today was 9.3 Celcius degrees.\n"
     ]
    }
   ],
   "source": [
    "print(f'The differences between temperatures today was {round(fukuoka[\"forecast\"][\"forecastday\"][0][\"day\"][\"maxtemp_c\"]- fukuoka[\"forecast\"][\"forecastday\"][0][\"day\"][\"mintemp_c\"],2)} Celcius degrees.')"
   ]
  },
  {
   "cell_type": "markdown",
   "metadata": {
    "collapsed": true
   },
   "source": [
    "## 4.5) How can you avoid the \"oh no I don't have the data any more because I made another request\" problem in the future?\n",
    "\n",
    "What variable(s) do you have to rename, and what would you rename them?"
   ]
  },
  {
   "cell_type": "markdown",
   "metadata": {},
   "source": [
    "I would have to give distinctive names to the current weather variable and the forecast variable. Currently both are named after the city, which is Fukuoka."
   ]
  },
  {
   "cell_type": "markdown",
   "metadata": {},
   "source": [
    "## 5) Go through the daily forecasts, printing out the next week's worth of predictions.\n",
    "\n",
    "I'd like to know the **high temperature** for each day, and whether it's **hot, warm, or cold** (based on what temperatures you think are hot, warm or cold).\n",
    "\n",
    "- *Tip: You'll need to use an `if` statement to say whether it is hot, warm or cold.*"
   ]
  },
  {
   "cell_type": "code",
   "execution_count": 30,
   "metadata": {},
   "outputs": [],
   "source": [
    "week_fukuoka=requests.get(\"http://api.weatherapi.com/v1/forecast.json?key=364e0a575b9942e2b8b103915211706&q=Fukuoka&days=8&aqi=no&alerts=no\")"
   ]
  },
  {
   "cell_type": "code",
   "execution_count": 31,
   "metadata": {},
   "outputs": [],
   "source": [
    "week=week_fukuoka.json()"
   ]
  },
  {
   "cell_type": "markdown",
   "metadata": {},
   "source": [
    "Load the API for the next 8 days in Fukuoka, but will only load for the next 3 days since it is the free trial."
   ]
  },
  {
   "cell_type": "code",
   "execution_count": 33,
   "metadata": {},
   "outputs": [
    {
     "name": "stdout",
     "output_type": "stream",
     "text": [
      "The maximum temperature on 2021-06-21 is 29.9 degrees Celcius and it is warm.\n",
      "The maximum temperature on 2021-06-22 is 27.1 degrees Celcius and it is warm.\n",
      "The maximum temperature on 2021-06-23 is 26.6 degrees Celcius and it is warm.\n"
     ]
    }
   ],
   "source": [
    "for day in week[\"forecast\"][\"forecastday\"]:\n",
    "    if day[\"day\"][\"maxtemp_c\"]>=30:\n",
    "        print(f'The maximum temperature on {day[\"date\"]} is {day[\"day\"][\"maxtemp_c\"]} degrees Celcius and it is hot.')\n",
    "    elif day[\"day\"][\"maxtemp_c\"]>=15:\n",
    "        print(f'The maximum temperature on {day[\"date\"]} is {day[\"day\"][\"maxtemp_c\"]} degrees Celcius and it is warm.')\n",
    "    else:\n",
    "        print(f'The maximum temperature on {day[\"date\"]} is {day[\"day\"][\"maxtemp_c\"]} degrees Celcius and it is cold.')"
   ]
  },
  {
   "cell_type": "markdown",
   "metadata": {},
   "source": [
    "# 6) What will be the hottest day in the next 3 days? What is the high temperature on that day?"
   ]
  },
  {
   "cell_type": "code",
   "execution_count": 34,
   "metadata": {},
   "outputs": [
    {
     "name": "stdout",
     "output_type": "stream",
     "text": [
      "The day 2021-06-21 is the day with the highest maximum temperature of 29.9 degrees Celcius.\n"
     ]
    }
   ],
   "source": [
    "max_temp= []\n",
    "for day in week[\"forecast\"][\"forecastday\"]:\n",
    "    max_temp.append(day[\"day\"][\"maxtemp_c\"])\n",
    "    \n",
    "\n",
    "for day in week[\"forecast\"][\"forecastday\"]:\n",
    "    if day[\"day\"][\"maxtemp_c\"] == max(max_temp):\n",
    "        print(f'The day {day[\"date\"]} is the day with the highest maximum temperature of {day[\"day\"][\"maxtemp_c\"]} degrees Celcius.')"
   ]
  },
  {
   "cell_type": "markdown",
   "metadata": {},
   "source": [
    "## 7) What's the weather looking like for the next 24+ hours in Miami, Florida?\n",
    "\n",
    "I'd like to know the temperature for every hour, and if it's going to have cloud cover of more than 50% say \"{temperature} and cloudy\" instead of just the temperature. \n",
    "\n",
    "- *Tip: You'll only need one day of forecast*"
   ]
  },
  {
   "cell_type": "code",
   "execution_count": 35,
   "metadata": {},
   "outputs": [],
   "source": [
    "weather_miami= requests.get(\"http://api.weatherapi.com/v1/forecast.json?key=364e0a575b9942e2b8b103915211706&q=Miami&days=3&aqi=no&alerts=no\")"
   ]
  },
  {
   "cell_type": "code",
   "execution_count": 36,
   "metadata": {},
   "outputs": [],
   "source": [
    "miami= weather_miami.json()"
   ]
  },
  {
   "cell_type": "code",
   "execution_count": 44,
   "metadata": {},
   "outputs": [],
   "source": [
    "hourly_miami= miami[\"forecast\"][\"forecastday\"][1][\"hour\"]"
   ]
  },
  {
   "cell_type": "markdown",
   "metadata": {},
   "source": [
    "Save the hourly data in Miami in the new variable hourly_miami. I chose the number 1 in the list as we want the data for the next day."
   ]
  },
  {
   "cell_type": "code",
   "execution_count": 45,
   "metadata": {},
   "outputs": [
    {
     "name": "stdout",
     "output_type": "stream",
     "text": [
      "For the time 2021-06-21 00:00 the temperature is 28.5 degrees Celcius. It is cloudy.\n",
      "For the time 2021-06-21 01:00 the temperature is 28.5 degrees Celcius. It is cloudy.\n",
      "For the time 2021-06-21 02:00 the temperature is 28.4 degrees Celcius. It is cloudy.\n",
      "For the time 2021-06-21 03:00 the temperature is 28.3 degrees Celcius. It is cloudy.\n",
      "For the time 2021-06-21 04:00 the temperature is 28.2 degrees Celcius. It is cloudy.\n",
      "For the time 2021-06-21 05:00 the temperature is 28.1 degrees Celcius. It is cloudy.\n",
      "For the time 2021-06-21 06:00 the temperature is 28.2 degrees Celcius. It is cloudy.\n",
      "For the time 2021-06-21 07:00 the temperature is 28.3 degrees Celcius. It is cloudy.\n",
      "For the time 2021-06-21 08:00 the temperature is 28.4 degrees Celcius. It is cloudy.\n",
      "For the time 2021-06-21 09:00 the temperature is 28.6 degrees Celcius. It is cloudy.\n",
      "For the time 2021-06-21 10:00 the temperature is 28.7 degrees Celcius. It is cloudy.\n",
      "For the time 2021-06-21 11:00 the temperature is 28.9 degrees Celcius. It is cloudy.\n",
      "For the time 2021-06-21 12:00 the temperature is 29.1 degrees Celcius. It is not cloudy.\n",
      "For the time 2021-06-21 13:00 the temperature is 29.3 degrees Celcius. It is not cloudy.\n",
      "For the time 2021-06-21 14:00 the temperature is 29.5 degrees Celcius. It is not cloudy.\n",
      "For the time 2021-06-21 15:00 the temperature is 29.5 degrees Celcius. It is not cloudy.\n",
      "For the time 2021-06-21 16:00 the temperature is 29.6 degrees Celcius. It is not cloudy.\n",
      "For the time 2021-06-21 17:00 the temperature is 29.6 degrees Celcius. It is not cloudy.\n",
      "For the time 2021-06-21 18:00 the temperature is 29.4 degrees Celcius. It is not cloudy.\n",
      "For the time 2021-06-21 19:00 the temperature is 29.1 degrees Celcius. It is not cloudy.\n",
      "For the time 2021-06-21 20:00 the temperature is 28.9 degrees Celcius. It is not cloudy.\n",
      "For the time 2021-06-21 21:00 the temperature is 28.8 degrees Celcius. It is not cloudy.\n",
      "For the time 2021-06-21 22:00 the temperature is 28.7 degrees Celcius. It is not cloudy.\n",
      "For the time 2021-06-21 23:00 the temperature is 28.6 degrees Celcius. It is not cloudy.\n"
     ]
    }
   ],
   "source": [
    "for temp in hourly_miami:\n",
    "    if temp[\"cloud\"]>50:\n",
    "        print(f'For the time {temp[\"time\"]} the temperature is {temp[\"temp_c\"]} degrees Celcius. It is cloudy.')\n",
    "    else:\n",
    "        print(f'For the time {temp[\"time\"]} the temperature is {temp[\"temp_c\"]} degrees Celcius. It is not cloudy.')"
   ]
  },
  {
   "cell_type": "markdown",
   "metadata": {},
   "source": [
    "# 8) For the next 24-ish hours in Miami, what percent of the time is the temperature above 85 degrees?\n",
    "\n",
    "- *Tip: You might want to read up on [looping patterns](http://jonathansoma.com/lede/foundations-2017/classes/data%20structures/looping-patterns/)*"
   ]
  },
  {
   "cell_type": "code",
   "execution_count": 48,
   "metadata": {},
   "outputs": [
    {
     "name": "stdout",
     "output_type": "stream",
     "text": [
      "For the next 24 hours in Miami the temperature is above 85 degrees Fahrenheit around 17 % of the time.\n"
     ]
    }
   ],
   "source": [
    "count85= 0\n",
    "for temp in hourly_miami:\n",
    "    if temp[\"temp_f\"]>85:\n",
    "        count85=count85+1 \n",
    "print(f'For the next 24 hours in Miami the temperature is above 85 degrees Fahrenheit around {round(count85/23*100)} % of the time.')"
   ]
  },
  {
   "cell_type": "markdown",
   "metadata": {
    "collapsed": true
   },
   "source": [
    "Using a count loop to add 1 for every hour in the loop. However It only shows the hours from 0 am until 23 PM, so it has only data for 23 hour."
   ]
  },
  {
   "cell_type": "markdown",
   "metadata": {},
   "source": [
    "## 9) What was the temperature in Central Park on Christmas Day, 2020? How about 2012? 2007? How far back does the API allow you to go?\n",
    "\n",
    "- *Tip: You'll need to use latitude/longitude. You can ask Google where Central Park is, it knows*\n",
    "- *Tip: Remember when latitude/longitude might use negative numbers*"
   ]
  },
  {
   "cell_type": "markdown",
   "metadata": {
    "collapsed": true
   },
   "source": [
    "I need to enter these values as coordinates for Central Park: 40.7812,-73.9665 . For West, we need to use a minus sign beforehand."
   ]
  },
  {
   "cell_type": "markdown",
   "metadata": {
    "collapsed": true
   },
   "source": [
    "Since this search concerns historical data, it gives me an error on the free version."
   ]
  },
  {
   "cell_type": "markdown",
   "metadata": {
    "collapsed": true
   },
   "source": [
    "**{\n",
    "    \"error\": {\n",
    "        \"code\": 1008,\n",
    "        \"message\": \"API key is limited to get history data. Please check our pricing page and upgrade to higher plan.\"\n",
    "    }\n",
    "}**"
   ]
  }
 ],
 "metadata": {
  "kernelspec": {
   "display_name": "Python 3",
   "language": "python",
   "name": "python3"
  },
  "language_info": {
   "codemirror_mode": {
    "name": "ipython",
    "version": 3
   },
   "file_extension": ".py",
   "mimetype": "text/x-python",
   "name": "python",
   "nbconvert_exporter": "python",
   "pygments_lexer": "ipython3",
   "version": "3.8.6"
  }
 },
 "nbformat": 4,
 "nbformat_minor": 1
}
